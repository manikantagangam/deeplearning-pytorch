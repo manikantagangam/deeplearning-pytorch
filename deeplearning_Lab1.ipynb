{
  "nbformat": 4,
  "nbformat_minor": 0,
  "metadata": {
    "colab": {
      "provenance": [],
      "gpuType": "T4",
      "authorship_tag": "ABX9TyMK/TjsIzzoFejpb0brQK1v",
      "include_colab_link": true
    },
    "kernelspec": {
      "name": "python3",
      "display_name": "Python 3"
    },
    "language_info": {
      "name": "python"
    },
    "accelerator": "GPU"
  },
  "cells": [
    {
      "cell_type": "markdown",
      "metadata": {
        "id": "view-in-github",
        "colab_type": "text"
      },
      "source": [
        "<a href=\"https://colab.research.google.com/github/manikantagangam/deeplearning-pytorch/blob/main/deeplearning_Lab1.ipynb\" target=\"_parent\"><img src=\"https://colab.research.google.com/assets/colab-badge.svg\" alt=\"Open In Colab\"/></a>"
      ]
    },
    {
      "cell_type": "code",
      "execution_count": 1,
      "metadata": {
        "id": "4vpD0rFZwnws"
      },
      "outputs": [],
      "source": [
        "import torch\n",
        "import numpy as np\n",
        "import pandas as pd\n",
        "import matplotlib.pyplot as plt\n",
        "%matplotlib inline"
      ]
    },
    {
      "cell_type": "code",
      "source": [
        "torch.__version__"
      ],
      "metadata": {
        "colab": {
          "base_uri": "https://localhost:8080/",
          "height": 35
        },
        "id": "z8KQr0Do1U8L",
        "outputId": "74616c4d-bbf0-4a53-8200-4a4a6822e199"
      },
      "execution_count": 2,
      "outputs": [
        {
          "output_type": "execute_result",
          "data": {
            "text/plain": [
              "'2.1.0+cu121'"
            ],
            "application/vnd.google.colaboratory.intrinsic+json": {
              "type": "string"
            }
          },
          "metadata": {},
          "execution_count": 2
        }
      ]
    },
    {
      "cell_type": "code",
      "source": [
        "# tensors are multi-dimensional-arrays in pytorch"
      ],
      "metadata": {
        "id": "hYo0Aj5Y1iXm"
      },
      "execution_count": 3,
      "outputs": []
    },
    {
      "cell_type": "code",
      "source": [
        "ints_to_tensor = torch.tensor([0, 1, 2, 3, 4])\n",
        "print(\"The dtype of tensor object after connverting it to tensor: \", ints_to_tensor.dtype) #property of tensor\n",
        "print(\"The type of tensor object after connverting it to tensor: \", ints_to_tensor.type()) #method or function of tensor"
      ],
      "metadata": {
        "colab": {
          "base_uri": "https://localhost:8080/"
        },
        "id": "KqqVDWhG10QR",
        "outputId": "f776af5d-042f-401f-f8b2-cffcd9dfcaab"
      },
      "execution_count": 5,
      "outputs": [
        {
          "output_type": "stream",
          "name": "stdout",
          "text": [
            "The dtype of tensor object after connverting it to tensor:  torch.int64\n",
            "The type of tensor object after connverting it to tensor:  torch.LongTensor\n"
          ]
        }
      ]
    },
    {
      "cell_type": "code",
      "source": [
        "floats_to_tensor = torch.tensor([0.0, 1.0, 2.0, 3.0, 4.0])\n",
        "print(\"The dtype of tensor object after connverting it to tensor: \", floats_to_tensor.dtype) #property of tensor\n",
        "print(\"The type of tensor object after connverting it to tensor: \", floats_to_tensor.type()) #method or function of tensor"
      ],
      "metadata": {
        "colab": {
          "base_uri": "https://localhost:8080/"
        },
        "id": "mSvr-bAI26yk",
        "outputId": "26a3c2f7-9a49-4e95-ee2c-a68878afcff3"
      },
      "execution_count": 6,
      "outputs": [
        {
          "output_type": "stream",
          "name": "stdout",
          "text": [
            "The dtype of tensor object after connverting it to tensor:  torch.float32\n",
            "The type of tensor object after connverting it to tensor:  torch.FloatTensor\n"
          ]
        }
      ]
    },
    {
      "cell_type": "code",
      "source": [
        "#convertion of type of tensor\n",
        "# Convert an integer list with length 5 to float tensor\n",
        "new_float_tensor = torch.FloatTensor([0, 1, 2, 3, 4])\n",
        "new_float_tensor.type()"
      ],
      "metadata": {
        "colab": {
          "base_uri": "https://localhost:8080/",
          "height": 35
        },
        "id": "N6Olkn0c3Rrf",
        "outputId": "ee8c775c-3469-48a0-8499-52024f825be4"
      },
      "execution_count": 8,
      "outputs": [
        {
          "output_type": "execute_result",
          "data": {
            "text/plain": [
              "'torch.FloatTensor'"
            ],
            "application/vnd.google.colaboratory.intrinsic+json": {
              "type": "string"
            }
          },
          "metadata": {},
          "execution_count": 8
        }
      ]
    },
    {
      "cell_type": "code",
      "source": [
        "# another method of converting the integer list to float tensor\n",
        "\n",
        "old_int_tensor = torch.tensor([0, 1, 2, 3, 4])\n",
        "new_float_tensor = old_int_tensor.type(torch.FloatTensor)\n",
        "print(\"The type of new Float Tensor: \", new_float_tensor.type())"
      ],
      "metadata": {
        "colab": {
          "base_uri": "https://localhost:8080/"
        },
        "id": "gq2_CIqr363p",
        "outputId": "679fd566-b652-4875-87c0-10542008e0cb"
      },
      "execution_count": 10,
      "outputs": [
        {
          "output_type": "stream",
          "name": "stdout",
          "text": [
            "The type of new Float Tensor:  torch.FloatTensor\n"
          ]
        }
      ]
    },
    {
      "cell_type": "code",
      "source": [
        "# Set all the elemnts in numpy array to zero\n",
        "numpy_array = np.array([1, 2, 3, 4])\n",
        "print(numpy_array)"
      ],
      "metadata": {
        "colab": {
          "base_uri": "https://localhost:8080/"
        },
        "id": "oQanj3yO4oLB",
        "outputId": "e8296331-3762-48a5-fde2-5f3071b0247e"
      },
      "execution_count": 11,
      "outputs": [
        {
          "output_type": "stream",
          "name": "stdout",
          "text": [
            "[1 2 3 4]\n"
          ]
        }
      ]
    },
    {
      "cell_type": "code",
      "source": [
        "# Introduce the tensor_obj.size() & tensor_dimension.size() methods\n",
        "\n",
        "print(\"The size of the new_float_tensor: \", new_float_tensor.size())\n",
        "print(\"The dimension of the new_float_tensor: \", new_float_tensor.ndimension())"
      ],
      "metadata": {
        "colab": {
          "base_uri": "https://localhost:8080/"
        },
        "id": "jrBgsjXw5DIZ",
        "outputId": "1102ab13-601f-4956-f840-0d21079cf3ce"
      },
      "execution_count": 12,
      "outputs": [
        {
          "output_type": "stream",
          "name": "stdout",
          "text": [
            "The size of the new_float_tensor:  torch.Size([5])\n",
            "The dimension of the new_float_tensor:  1\n"
          ]
        }
      ]
    },
    {
      "cell_type": "code",
      "source": [
        "# tensor_obj.view(row, column) is used for reshaping a tensor object\n",
        "twoD_float_tensor = new_float_tensor.view(5, 1)\n",
        "print(\"Orginal size: \", new_float_tensor)\n",
        "print(\"Updated size: \", twoD_float_tensor)"
      ],
      "metadata": {
        "colab": {
          "base_uri": "https://localhost:8080/"
        },
        "id": "bCCqVuJy5iKS",
        "outputId": "81d2b211-ba0e-4636-ea2a-e57026b0c3b2"
      },
      "execution_count": 13,
      "outputs": [
        {
          "output_type": "stream",
          "name": "stdout",
          "text": [
            "Orginal size:  tensor([0., 1., 2., 3., 4.])\n",
            "Updated size:  tensor([[0.],\n",
            "        [1.],\n",
            "        [2.],\n",
            "        [3.],\n",
            "        [4.]])\n"
          ]
        }
      ]
    },
    {
      "cell_type": "code",
      "source": [
        "# Introducing the use of -1 in the tensor_obj.view(row, column) method\n",
        "\n",
        "twoD_float_tensor = new_float_tensor.view(-1, 1)\n",
        "print(\"Updated size: \", twoD_float_tensor)"
      ],
      "metadata": {
        "colab": {
          "base_uri": "https://localhost:8080/"
        },
        "id": "NcCPg8ee6WsY",
        "outputId": "ce011d92-670d-45ea-dfdf-276c309d36b0"
      },
      "execution_count": 15,
      "outputs": [
        {
          "output_type": "stream",
          "name": "stdout",
          "text": [
            "Updated size:  tensor([[0.],\n",
            "        [1.],\n",
            "        [2.],\n",
            "        [3.],\n",
            "        [4.]])\n"
          ]
        }
      ]
    },
    {
      "cell_type": "code",
      "source": [
        "# NumPy Array\n",
        "# Convertion of numpy array to a tensor\n",
        "\n",
        "numpy_array = np.array([0.0, 1.0, 2.0, 3.0, 4.0])\n",
        "new_float_tensor = torch.from_numpy(numpy_array)\n",
        "print(\"The dtype of new tensor: \", new_float_tensor.dtype)\n",
        "print(\"The type of new tensor: \", new_float_tensor.type())"
      ],
      "metadata": {
        "colab": {
          "base_uri": "https://localhost:8080/"
        },
        "id": "idGHlr7f7jWz",
        "outputId": "5a708c49-5793-43f7-ee92-61568f237bda"
      },
      "execution_count": 17,
      "outputs": [
        {
          "output_type": "stream",
          "name": "stdout",
          "text": [
            "The dtype of new tensor:  torch.float64\n",
            "The dtype of new tensor:  torch.DoubleTensor\n"
          ]
        }
      ]
    },
    {
      "cell_type": "code",
      "source": [
        "# Convert tensor to numpy\n",
        "\n",
        "back_to_numpy = new_float_tensor.numpy()\n",
        "print(\"The numpy array from tensor: \", back_to_numpy)\n",
        "print(\"The dtype of numpy array: \", back_to_numpy.dtype)"
      ],
      "metadata": {
        "colab": {
          "base_uri": "https://localhost:8080/"
        },
        "id": "FWzy3crZ8Elr",
        "outputId": "4e560f34-d99b-436d-f6d6-abf01ba6f520"
      },
      "execution_count": 20,
      "outputs": [
        {
          "output_type": "stream",
          "name": "stdout",
          "text": [
            "The numpy array from tensor:  [0. 1. 2. 3. 4.]\n",
            "The dtype of numpy array:  float64\n"
          ]
        }
      ]
    },
    {
      "cell_type": "code",
      "source": [
        "# Set all the elements of original numpy array to zero\n",
        "numpy_array[:] = 0\n",
        "print(\"The new_tensor points to numpy-array:\", numpy_array)"
      ],
      "metadata": {
        "colab": {
          "base_uri": "https://localhost:8080/"
        },
        "id": "p_i73NYi9BWv",
        "outputId": "10a0d36b-5f52-47c6-f82d-99aeb77f7dff"
      },
      "execution_count": 22,
      "outputs": [
        {
          "output_type": "stream",
          "name": "stdout",
          "text": [
            "The new_tensor points to numpy-array: [0. 0. 0. 0. 0.]\n"
          ]
        }
      ]
    },
    {
      "cell_type": "code",
      "source": [
        "# convert a pandas-series(1D) to a tensor\n",
        "\n",
        "pandas_series = pd.Series([0.1, 2, 0.3, 10.1])\n",
        "new_tensor = torch.from_numpy(pandas_series.values)\n",
        "print(\"The new tensor from numpy array: \", new_tensor)\n",
        "print(\"The dtype of new tensor:\", new_tensor.dtype)\n",
        "print(\"The type of new tensor:\", new_tensor.type())"
      ],
      "metadata": {
        "colab": {
          "base_uri": "https://localhost:8080/"
        },
        "id": "9HC7ktRW9mjz",
        "outputId": "13e43842-d1b4-4b2c-d402-605ffc3557bc"
      },
      "execution_count": 25,
      "outputs": [
        {
          "output_type": "stream",
          "name": "stdout",
          "text": [
            "The new tensor from numpy array:  tensor([ 0.1000,  2.0000,  0.3000, 10.1000], dtype=torch.float64)\n",
            "The dtype of new tensor: torch.float64\n",
            "The type of new tensor: torch.DoubleTensor\n"
          ]
        }
      ]
    },
    {
      "cell_type": "code",
      "source": [
        "# use of item()\n",
        "this_tensor = torch.tensor([0, 1, 2, 3])\n",
        "\n",
        "print(\"The first item is given by: \", this_tensor[0])\n",
        "print(\"The first item is given by: \", this_tensor[0].item(),\", The second item is given by: \", this_tensor[1].item())"
      ],
      "metadata": {
        "colab": {
          "base_uri": "https://localhost:8080/"
        },
        "id": "5BwsneRv_l-A",
        "outputId": "906156a2-cb66-4eea-b875-13d5d6d26a32"
      },
      "execution_count": 29,
      "outputs": [
        {
          "output_type": "stream",
          "name": "stdout",
          "text": [
            "The first item is given by:  tensor(0)\n",
            "The first item is given by:  0 , The second item is given by:  1\n"
          ]
        }
      ]
    },
    {
      "cell_type": "code",
      "source": [],
      "metadata": {
        "id": "95bkJeCCAX-R"
      },
      "execution_count": null,
      "outputs": []
    }
  ]
}