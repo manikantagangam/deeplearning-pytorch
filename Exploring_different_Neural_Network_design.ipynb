{
  "nbformat": 4,
  "nbformat_minor": 0,
  "metadata": {
    "colab": {
      "provenance": [],
      "gpuType": "T4",
      "authorship_tag": "ABX9TyN/r+KRIV9JVO6DRFJz3EnI",
      "include_colab_link": true
    },
    "kernelspec": {
      "name": "python3",
      "display_name": "Python 3"
    },
    "language_info": {
      "name": "python"
    },
    "accelerator": "GPU"
  },
  "cells": [
    {
      "cell_type": "markdown",
      "metadata": {
        "id": "view-in-github",
        "colab_type": "text"
      },
      "source": [
        "<a href=\"https://colab.research.google.com/github/manikantagangam/deeplearning-tutorials/blob/main/Exploring_different_Neural_Network_design.ipynb\" target=\"_parent\"><img src=\"https://colab.research.google.com/assets/colab-badge.svg\" alt=\"Open In Colab\"/></a>"
      ]
    },
    {
      "cell_type": "markdown",
      "source": [
        "# Exploring different Neural Network design choices for Digit classification using MNIST dataset with the help of Keras library."
      ],
      "metadata": {
        "id": "9Lf77xX9Hfeq"
      }
    },
    {
      "cell_type": "code",
      "source": [
        "import tensorflow as tf\n",
        "from tensorflow.keras import layers, models\n",
        "from tensorflow.keras.datasets import mnist\n",
        "import time"
      ],
      "metadata": {
        "id": "zyUJUtNNHkMf"
      },
      "execution_count": 1,
      "outputs": []
    },
    {
      "cell_type": "code",
      "source": [
        "(train_images, train_labels), (test_images, test_labels) = mnist.load_data()\n",
        "train_images = train_images.reshape((60000, 28 * 28)).astype('float32') / 255\n",
        "test_images = test_images.reshape((10000, 28 * 28)).astype('float32') / 255"
      ],
      "metadata": {
        "colab": {
          "base_uri": "https://localhost:8080/"
        },
        "id": "V6Cs2dhHctDd",
        "outputId": "13eaebea-07c5-4cb7-b708-0b0c079d37e0"
      },
      "execution_count": 2,
      "outputs": [
        {
          "output_type": "stream",
          "name": "stdout",
          "text": [
            "Downloading data from https://storage.googleapis.com/tensorflow/tf-keras-datasets/mnist.npz\n",
            "11490434/11490434 [==============================] - 0s 0us/step\n"
          ]
        }
      ]
    },
    {
      "cell_type": "markdown",
      "source": [
        "# 1. Number of Nodes\n"
      ],
      "metadata": {
        "id": "Ia3vvWD9eZLu"
      }
    },
    {
      "cell_type": "code",
      "source": [
        "def create_model(num_nodes):\n",
        "    model = models.Sequential()\n",
        "    model.add(layers.Dense(num_nodes, activation='relu', input_shape=(28 * 28,)))\n",
        "    model.add(layers.Dense(10, activation='softmax'))\n",
        "    model.compile(optimizer='adam', loss='sparse_categorical_crossentropy', metrics=['accuracy'])\n",
        "    return model\n",
        "\n",
        "num_nodes_list = [4, 32, 64, 128, 512, 2056]\n",
        "for num_nodes in num_nodes_list:\n",
        "    model = create_model(num_nodes)\n",
        "    start_time = time.time()\n",
        "    model.fit(train_images, train_labels, epochs=10, batch_size=128, validation_split=0.2, verbose=0)\n",
        "    end_time = time.time()\n",
        "    training_time = end_time - start_time\n",
        "    _, train_accuracy = model.evaluate(train_images, train_labels, verbose=0)\n",
        "    _, test_accuracy = model.evaluate(test_images, test_labels, verbose=0)\n",
        "    print(f\"Number of Nodes: {num_nodes}, Train Accuracy: {train_accuracy:.4f}, Test Accuracy: {test_accuracy:.4f}, Training Time: {training_time:.2f} seconds, Number of Parameters: {model.count_params()}\")\n"
      ],
      "metadata": {
        "colab": {
          "base_uri": "https://localhost:8080/"
        },
        "id": "Ro7JwSuwejQi",
        "outputId": "b1b2f7c5-75b1-47fe-c754-d5f0c84ca837"
      },
      "execution_count": 3,
      "outputs": [
        {
          "output_type": "stream",
          "name": "stdout",
          "text": [
            "Number of Nodes: 4, Train Accuracy: 0.8463, Test Accuracy: 0.8466, Training Time: 13.25 seconds, Number of Parameters: 3190\n",
            "Number of Nodes: 32, Train Accuracy: 0.9677, Test Accuracy: 0.9618, Training Time: 21.18 seconds, Number of Parameters: 25450\n",
            "Number of Nodes: 64, Train Accuracy: 0.9832, Test Accuracy: 0.9721, Training Time: 21.35 seconds, Number of Parameters: 50890\n",
            "Number of Nodes: 128, Train Accuracy: 0.9904, Test Accuracy: 0.9754, Training Time: 11.19 seconds, Number of Parameters: 101770\n",
            "Number of Nodes: 512, Train Accuracy: 0.9941, Test Accuracy: 0.9787, Training Time: 11.53 seconds, Number of Parameters: 407050\n",
            "Number of Nodes: 2056, Train Accuracy: 0.9953, Test Accuracy: 0.9808, Training Time: 21.18 seconds, Number of Parameters: 1634530\n"
          ]
        }
      ]
    },
    {
      "cell_type": "markdown",
      "source": [
        "# 2. Number of Layers"
      ],
      "metadata": {
        "id": "7QN94FB1gJVm"
      }
    },
    {
      "cell_type": "code",
      "source": [
        "def create_model(num_layers):\n",
        "    model = models.Sequential()\n",
        "    model.add(layers.Dense(64, activation='relu', input_shape=(28 * 28,)))\n",
        "    for _ in range(num_layers - 1):\n",
        "        model.add(layers.Dense(64, activation='relu'))\n",
        "    model.add(layers.Dense(10, activation='softmax'))\n",
        "    model.compile(optimizer='adam', loss='sparse_categorical_crossentropy', metrics=['accuracy'])\n",
        "    return model\n",
        "\n",
        "num_layers_list = [4, 6, 8, 16]\n",
        "for num_layers in num_layers_list:\n",
        "    model = create_model(num_layers)\n",
        "    start_time = time.time()\n",
        "    model.fit(train_images, train_labels, epochs=10, batch_size=128, validation_split=0.2, verbose=0)\n",
        "    end_time = time.time()\n",
        "    training_time = end_time - start_time\n",
        "    _, train_accuracy = model.evaluate(train_images, train_labels, verbose=0)\n",
        "    _, test_accuracy = model.evaluate(test_images, test_labels, verbose=0)\n",
        "    print(f\"Number of Layers: {num_layers}, Train Accuracy: {train_accuracy:.4f}, Test Accuracy: {test_accuracy:.4f}, Training Time: {training_time:.2f} seconds, Number of Parameters: {model.count_params()}\")\n"
      ],
      "metadata": {
        "colab": {
          "base_uri": "https://localhost:8080/"
        },
        "id": "ic92ANA1gMXk",
        "outputId": "efd559e1-5628-48f6-c582-6452684ea621"
      },
      "execution_count": 4,
      "outputs": [
        {
          "output_type": "stream",
          "name": "stdout",
          "text": [
            "Number of Layers: 4, Train Accuracy: 0.9770, Test Accuracy: 0.9627, Training Time: 14.63 seconds, Number of Parameters: 63370\n",
            "Number of Layers: 6, Train Accuracy: 0.9829, Test Accuracy: 0.9672, Training Time: 16.59 seconds, Number of Parameters: 71690\n",
            "Number of Layers: 8, Train Accuracy: 0.9838, Test Accuracy: 0.9685, Training Time: 17.33 seconds, Number of Parameters: 80010\n",
            "Number of Layers: 16, Train Accuracy: 0.9777, Test Accuracy: 0.9668, Training Time: 25.99 seconds, Number of Parameters: 113290\n"
          ]
        }
      ]
    },
    {
      "cell_type": "markdown",
      "source": [
        "# 3. Layer-node combinations"
      ],
      "metadata": {
        "id": "ba9PHpLpgkIL"
      }
    },
    {
      "cell_type": "code",
      "source": [
        "def create_model(nodes_per_layer):\n",
        "    model = models.Sequential()\n",
        "    for nodes in nodes_per_layer:\n",
        "        model.add(layers.Dense(nodes, activation='relu'))\n",
        "    model.add(layers.Dense(10, activation='softmax'))\n",
        "    model.compile(optimizer='adam', loss='sparse_categorical_crossentropy', metrics=['accuracy'])\n",
        "    return model\n",
        "\n",
        "architectures = [\n",
        "    [256, 128, 64, 32],\n",
        "    [128, 128, 128, 128],\n",
        "]\n",
        "\n",
        "for nodes_per_layer in architectures:\n",
        "    model = create_model(nodes_per_layer)\n",
        "    start_time = time.time()\n",
        "    model.fit(train_images, train_labels, epochs=10, batch_size=128, validation_split=0.2, verbose=0)\n",
        "    end_time = time.time()\n",
        "    training_time = end_time - start_time\n",
        "    _, train_accuracy = model.evaluate(train_images, train_labels, verbose=0)\n",
        "    _, test_accuracy = model.evaluate(test_images, test_labels, verbose=0)\n",
        "    print(f\"Architecture: {nodes_per_layer}, Train Accuracy: {train_accuracy:.4f}, Test Accuracy: {test_accuracy:.4f}, Training Time: {training_time:.2f} seconds, Number of Parameters: {model.count_params()}\")\n"
      ],
      "metadata": {
        "colab": {
          "base_uri": "https://localhost:8080/"
        },
        "id": "MQktbmO6gjiL",
        "outputId": "a32fa926-54e8-46d8-98d1-7c405671f260"
      },
      "execution_count": 5,
      "outputs": [
        {
          "output_type": "stream",
          "name": "stdout",
          "text": [
            "Architecture: [256, 128, 64, 32], Train Accuracy: 0.9938, Test Accuracy: 0.9801, Training Time: 21.88 seconds, Number of Parameters: 244522\n",
            "Architecture: [128, 128, 128, 128], Train Accuracy: 0.9901, Test Accuracy: 0.9757, Training Time: 14.42 seconds, Number of Parameters: 151306\n"
          ]
        }
      ]
    },
    {
      "cell_type": "markdown",
      "source": [
        "# 4. Input Size"
      ],
      "metadata": {
        "id": "P4n5gIenhUbD"
      }
    },
    {
      "cell_type": "code",
      "source": [
        "def create_model():\n",
        "    model = models.Sequential()\n",
        "    model.add(layers.Dense(256, activation='relu', input_shape=(28 * 28,)))\n",
        "    for _ in range(3):\n",
        "        model.add(layers.Dense(256, activation='relu'))\n",
        "    model.add(layers.Dense(10, activation='softmax'))\n",
        "    model.compile(optimizer='adam', loss='sparse_categorical_crossentropy', metrics=['accuracy'])\n",
        "    return model\n",
        "\n",
        "model = create_model()\n",
        "start_time = time.time()\n",
        "model.fit(train_images, train_labels, epochs=10, batch_size=128, validation_split=0.2, verbose=0)\n",
        "end_time = time.time()\n",
        "training_time = end_time - start_time\n",
        "\n",
        "_, train_accuracy = model.evaluate(train_images, train_labels, verbose=0)\n",
        "_, test_accuracy = model.evaluate(test_images, test_labels, verbose=0)\n",
        "\n",
        "print(f\"Train Accuracy: {train_accuracy:.4f}, Test Accuracy: {test_accuracy:.4f}, Training Time: {training_time:.2f} seconds, Number of Parameters: {model.count_params()}\")"
      ],
      "metadata": {
        "colab": {
          "base_uri": "https://localhost:8080/"
        },
        "id": "sLApztKQn0o2",
        "outputId": "f2ec05be-6363-4509-c4ae-a4348a780af7"
      },
      "execution_count": 6,
      "outputs": [
        {
          "output_type": "stream",
          "name": "stdout",
          "text": [
            "Train Accuracy: 0.9894, Test Accuracy: 0.9751, Training Time: 21.45 seconds, Number of Parameters: 400906\n"
          ]
        }
      ]
    },
    {
      "cell_type": "markdown",
      "source": [
        "# 5. Dataset Split"
      ],
      "metadata": {
        "id": "oOZGFeQyoKhY"
      }
    },
    {
      "cell_type": "code",
      "source": [
        "def create_model():\n",
        "    model = models.Sequential()\n",
        "    model.add(layers.Dense(256, activation='relu', input_shape=(28 * 28,)))\n",
        "    for _ in range(3):\n",
        "        model.add(layers.Dense(256, activation='relu'))\n",
        "    model.add(layers.Dense(10, activation='softmax'))\n",
        "    model.compile(optimizer='adam', loss='sparse_categorical_crossentropy', metrics=['accuracy'])\n",
        "    return model\n",
        "\n",
        "model = create_model()\n",
        "start_time = time.time()\n",
        "model.fit(train_images[:1000], train_labels[:1000], epochs=10, batch_size=128, validation_split=0.2, verbose=0)\n",
        "end_time = time.time()\n",
        "training_time = end_time - start_time\n",
        "\n",
        "_, train_accuracy = model.evaluate(train_images[:1000], train_labels[:1000], verbose=0)\n",
        "_, test_accuracy = model.evaluate(test_images[:1000], test_labels[:1000], verbose=0)\n",
        "\n",
        "print(f\"Train Accuracy: {train_accuracy:.4f}, Test Accuracy: {test_accuracy:.4f}, Training Time: {training_time:.2f} seconds, Number of Parameters: {model.count_params()}\")\n"
      ],
      "metadata": {
        "colab": {
          "base_uri": "https://localhost:8080/"
        },
        "id": "WFp-T4Q3n7Iw",
        "outputId": "70315ba4-fd21-4b75-e04d-da9798bdc427"
      },
      "execution_count": 7,
      "outputs": [
        {
          "output_type": "stream",
          "name": "stdout",
          "text": [
            "Train Accuracy: 0.9680, Test Accuracy: 0.8530, Training Time: 1.97 seconds, Number of Parameters: 400906\n"
          ]
        }
      ]
    },
    {
      "cell_type": "markdown",
      "source": [
        "# 6. Activation function"
      ],
      "metadata": {
        "id": "imbzCyiYpq2O"
      }
    },
    {
      "cell_type": "code",
      "source": [
        "def create_model(activation):\n",
        "    model = models.Sequential()\n",
        "    model.add(layers.Dense(64, activation=activation, input_shape=(28 * 28,)))\n",
        "    for _ in range(3):\n",
        "        model.add(layers.Dense(64, activation=activation))\n",
        "    model.add(layers.Dense(10, activation='softmax'))\n",
        "    model.compile(optimizer='adam', loss='sparse_categorical_crossentropy', metrics=['accuracy'])\n",
        "    return model\n",
        "\n",
        "def train_and_evaluate(activation, epochs):\n",
        "    model = create_model(activation)\n",
        "    start_time = time.time()\n",
        "    model.fit(train_images, train_labels, epochs=epochs, batch_size=128, validation_split=0.2, verbose=0)\n",
        "    end_time = time.time()\n",
        "    training_time = end_time - start_time\n",
        "    _, train_accuracy = model.evaluate(train_images, train_labels, verbose=0)\n",
        "    _, test_accuracy = model.evaluate(test_images, test_labels, verbose=0)\n",
        "    print(f\"Activation: {activation}, Epochs: {epochs}, Train Accuracy: {train_accuracy:.4f}, Test Accuracy: {test_accuracy:.4f}, Training Time: {training_time:.2f} seconds\")\n",
        "\n",
        "activations = ['sigmoid', 'tanh', 'relu']\n",
        "for activation in activations:\n",
        "    train_and_evaluate(activation, epochs=10)\n",
        "\n",
        "print(\"\\nRunning models for 30 epochs:\")\n",
        "for activation in activations:\n",
        "    train_and_evaluate(activation, epochs=30)\n"
      ],
      "metadata": {
        "colab": {
          "base_uri": "https://localhost:8080/"
        },
        "id": "gxR4TjVbpqLJ",
        "outputId": "6939977c-83e0-4fa6-a430-8fdae03657fe"
      },
      "execution_count": 8,
      "outputs": [
        {
          "output_type": "stream",
          "name": "stdout",
          "text": [
            "Activation: sigmoid, Epochs: 10, Train Accuracy: 0.9725, Test Accuracy: 0.9564, Training Time: 21.45 seconds\n",
            "Activation: tanh, Epochs: 10, Train Accuracy: 0.9886, Test Accuracy: 0.9712, Training Time: 14.70 seconds\n",
            "Activation: relu, Epochs: 10, Train Accuracy: 0.9879, Test Accuracy: 0.9749, Training Time: 21.49 seconds\n",
            "\n",
            "Running models for 30 epochs:\n",
            "Activation: sigmoid, Epochs: 30, Train Accuracy: 0.9900, Test Accuracy: 0.9647, Training Time: 38.87 seconds\n",
            "Activation: tanh, Epochs: 30, Train Accuracy: 0.9868, Test Accuracy: 0.9652, Training Time: 41.94 seconds\n",
            "Activation: relu, Epochs: 30, Train Accuracy: 0.9887, Test Accuracy: 0.9728, Training Time: 38.91 seconds\n"
          ]
        }
      ]
    },
    {
      "cell_type": "markdown",
      "source": [
        "# 7. Activation function combinations"
      ],
      "metadata": {
        "id": "jHoAy0slqPbn"
      }
    },
    {
      "cell_type": "code",
      "source": [
        "def create_model(activation1, activation2, activation3):\n",
        "    model = models.Sequential()\n",
        "    model.add(layers.Dense(32, activation=activation1, input_shape=(28 * 28,)))\n",
        "    model.add(layers.Dense(32, activation=activation2))\n",
        "    model.add(layers.Dense(32, activation=activation3))\n",
        "    model.add(layers.Dense(10, activation='softmax'))\n",
        "    model.compile(optimizer='adam', loss='sparse_categorical_crossentropy', metrics=['accuracy'])\n",
        "    return model\n",
        "\n",
        "def train_and_evaluate(activation1, activation2, activation3):\n",
        "    model = create_model(activation1, activation2, activation3)\n",
        "    start_time = time.time()\n",
        "    model.fit(train_images, train_labels, epochs=10, batch_size=128, validation_split=0.2, verbose=0)\n",
        "    end_time = time.time()\n",
        "    training_time = end_time - start_time\n",
        "    _, train_accuracy = model.evaluate(train_images, train_labels, verbose=0)\n",
        "    _, test_accuracy = model.evaluate(test_images, test_labels, verbose=0)\n",
        "    print(f\"Activation Functions: {activation1}, {activation2}, {activation3}, Train Accuracy: {train_accuracy:.4f}, Test Accuracy: {test_accuracy:.4f}, Training Time: {training_time:.2f} seconds\")\n",
        "\n",
        "activation_combinations = [\n",
        "    ('sigmoid', 'sigmoid', 'sigmoid'),\n",
        "    ('relu', 'relu', 'relu'),\n",
        "    ('tanh', 'tanh', 'tanh'),\n",
        "    ('sigmoid', 'relu', 'tanh'),\n",
        "]\n",
        "\n",
        "for activation_combination in activation_combinations:\n",
        "    train_and_evaluate(*activation_combination)\n"
      ],
      "metadata": {
        "colab": {
          "base_uri": "https://localhost:8080/"
        },
        "id": "EyNfvbEwqGWV",
        "outputId": "558f439d-1297-47ea-8f20-da5be2f2e029"
      },
      "execution_count": 9,
      "outputs": [
        {
          "output_type": "stream",
          "name": "stdout",
          "text": [
            "Activation Functions: sigmoid, sigmoid, sigmoid, Train Accuracy: 0.9616, Test Accuracy: 0.9525, Training Time: 13.10 seconds\n",
            "Activation Functions: relu, relu, relu, Train Accuracy: 0.9770, Test Accuracy: 0.9648, Training Time: 13.01 seconds\n",
            "Activation Functions: tanh, tanh, tanh, Train Accuracy: 0.9807, Test Accuracy: 0.9658, Training Time: 21.36 seconds\n",
            "Activation Functions: sigmoid, relu, tanh, Train Accuracy: 0.9711, Test Accuracy: 0.9611, Training Time: 21.39 seconds\n"
          ]
        }
      ]
    }
  ]
}